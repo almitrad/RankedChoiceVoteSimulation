{
 "cells": [
  {
   "cell_type": "code",
   "execution_count": 24,
   "metadata": {},
   "outputs": [],
   "source": [
    "from datascience import *\n",
    "import numpy as np\n",
    "\n"
   ]
  },
  {
   "cell_type": "code",
   "execution_count": 25,
   "metadata": {},
   "outputs": [
    {
     "data": {
      "text/html": [
       "<table border=\"1\" class=\"dataframe\">\n",
       "    <thead>\n",
       "        <tr>\n",
       "            <th>Id</th> <th>FirstChoice</th> <th>SecondChoice</th> <th>ThirdChoice</th> <th>FourthChoice</th> <th>FifthChoice</th>\n",
       "        </tr>\n",
       "    </thead>\n",
       "    <tbody>\n",
       "        <tr>\n",
       "            <td>1   </td> <td>Leslie     </td> <td>Christina   </td> <td>Lily       </td> <td>Carlos      </td> <td>Tim        </td>\n",
       "        </tr>\n",
       "        <tr>\n",
       "            <td>2   </td> <td>Carlos     </td> <td>Tim         </td> <td>Lily       </td> <td>Leslie      </td> <td>Christina  </td>\n",
       "        </tr>\n",
       "        <tr>\n",
       "            <td>3   </td> <td>Tim        </td> <td>Carlos      </td> <td>Christina  </td> <td>Lily        </td> <td>Leslie     </td>\n",
       "        </tr>\n",
       "        <tr>\n",
       "            <td>4   </td> <td>Leslie     </td> <td>Christina   </td> <td>Lily       </td> <td>Tim         </td> <td>Carlos     </td>\n",
       "        </tr>\n",
       "        <tr>\n",
       "            <td>5   </td> <td>Tim        </td> <td>Lily        </td> <td>Carlos     </td> <td>Leslie      </td> <td>Christina  </td>\n",
       "        </tr>\n",
       "    </tbody>\n",
       "</table>\n",
       "<p>... (9995 rows omitted)</p>"
      ],
      "text/plain": [
       "<IPython.core.display.HTML object>"
      ]
     },
     "metadata": {},
     "output_type": "display_data"
    }
   ],
   "source": [
    "votes = Table.read_table(\"IRV_Assignment_DeCal.csv\")\n",
    "votes.show(5)"
   ]
  },
  {
   "cell_type": "code",
   "execution_count": 52,
   "metadata": {},
   "outputs": [
    {
     "data": {
      "text/html": [
       "<table border=\"1\" class=\"dataframe\">\n",
       "    <thead>\n",
       "        <tr>\n",
       "            <th>FirstChoice</th> <th>count</th>\n",
       "        </tr>\n",
       "    </thead>\n",
       "    <tbody>\n",
       "        <tr>\n",
       "            <td>Lily       </td> <td>1218 </td>\n",
       "        </tr>\n",
       "        <tr>\n",
       "            <td>Christina  </td> <td>1461 </td>\n",
       "        </tr>\n",
       "        <tr>\n",
       "            <td>Carlos     </td> <td>1574 </td>\n",
       "        </tr>\n",
       "        <tr>\n",
       "            <td>Tim        </td> <td>2832 </td>\n",
       "        </tr>\n",
       "        <tr>\n",
       "            <td>Leslie     </td> <td>2915 </td>\n",
       "        </tr>\n",
       "    </tbody>\n",
       "</table>"
      ],
      "text/plain": [
       "FirstChoice | count\n",
       "Lily        | 1218\n",
       "Christina   | 1461\n",
       "Carlos      | 1574\n",
       "Tim         | 2832\n",
       "Leslie      | 2915"
      ]
     },
     "execution_count": 52,
     "metadata": {},
     "output_type": "execute_result"
    }
   ],
   "source": [
    "first_choice = votes.select(\"FirstChoice\").group('FirstChoice').sort('count')\n",
    "lowest_first = first_choice.column('count').item(0)\n",
    "first_choice"
   ]
  },
  {
   "cell_type": "code",
   "execution_count": 55,
   "metadata": {},
   "outputs": [
    {
     "data": {
      "text/html": [
       "<table border=\"1\" class=\"dataframe\">\n",
       "    <thead>\n",
       "        <tr>\n",
       "            <th>SecondChoice</th> <th>count</th>\n",
       "        </tr>\n",
       "    </thead>\n",
       "    <tbody>\n",
       "        <tr>\n",
       "            <td>Christina   </td> <td>160  </td>\n",
       "        </tr>\n",
       "        <tr>\n",
       "            <td>Carlos      </td> <td>204  </td>\n",
       "        </tr>\n",
       "        <tr>\n",
       "            <td>Tim         </td> <td>400  </td>\n",
       "        </tr>\n",
       "        <tr>\n",
       "            <td>Leslie      </td> <td>454  </td>\n",
       "        </tr>\n",
       "    </tbody>\n",
       "</table>"
      ],
      "text/plain": [
       "SecondChoice | count\n",
       "Christina    | 160\n",
       "Carlos       | 204\n",
       "Tim          | 400\n",
       "Leslie       | 454"
      ]
     },
     "execution_count": 55,
     "metadata": {},
     "output_type": "execute_result"
    }
   ],
   "source": [
    "second_choice = votes.where('FirstChoice', 'Lily')\n",
    "second_choice.group('SecondChoice').sort('count')"
   ]
  },
  {
   "cell_type": "code",
   "execution_count": 67,
   "metadata": {},
   "outputs": [
    {
     "data": {
      "text/html": [
       "<table border=\"1\" class=\"dataframe\">\n",
       "    <thead>\n",
       "        <tr>\n",
       "            <th>Choices</th> <th>count</th>\n",
       "        </tr>\n",
       "    </thead>\n",
       "    <tbody>\n",
       "        <tr>\n",
       "            <td>Christina</td> <td>1621 </td>\n",
       "        </tr>\n",
       "        <tr>\n",
       "            <td>Carlos   </td> <td>1778 </td>\n",
       "        </tr>\n",
       "        <tr>\n",
       "            <td>Tim      </td> <td>3232 </td>\n",
       "        </tr>\n",
       "        <tr>\n",
       "            <td>Leslie   </td> <td>3369 </td>\n",
       "        </tr>\n",
       "    </tbody>\n",
       "</table>"
      ],
      "text/plain": [
       "Choices   | count\n",
       "Christina | 1621\n",
       "Carlos    | 1778\n",
       "Tim       | 3232\n",
       "Leslie    | 3369"
      ]
     },
     "execution_count": 67,
     "metadata": {},
     "output_type": "execute_result"
    }
   ],
   "source": [
    "second_round = Table().with_column('Choices', ['Christina', 'Carlos', 'Tim', 'Leslie'], 'count', ['1621', '1778', '3232', '3369'])\n",
    "second_round"
   ]
  },
  {
   "cell_type": "code",
   "execution_count": 71,
   "metadata": {},
   "outputs": [
    {
     "data": {
      "text/html": [
       "<table border=\"1\" class=\"dataframe\">\n",
       "    <thead>\n",
       "        <tr>\n",
       "            <th>ThirdChoice</th> <th>count</th>\n",
       "        </tr>\n",
       "    </thead>\n",
       "    <tbody>\n",
       "        <tr>\n",
       "            <td>Carlos     </td> <td>11   </td>\n",
       "        </tr>\n",
       "        <tr>\n",
       "            <td>Tim        </td> <td>30   </td>\n",
       "        </tr>\n",
       "        <tr>\n",
       "            <td>Leslie     </td> <td>119  </td>\n",
       "        </tr>\n",
       "    </tbody>\n",
       "</table>"
      ],
      "text/plain": [
       "ThirdChoice | count\n",
       "Carlos      | 11\n",
       "Tim         | 30\n",
       "Leslie      | 119"
      ]
     },
     "execution_count": 71,
     "metadata": {},
     "output_type": "execute_result"
    }
   ],
   "source": [
    "third_choice = votes.where(\"SecondChoice\", \"Christina\").where('FirstChoice', 'Lily').group('ThirdChoice').sort('count')\n",
    "third_choice"
   ]
  },
  {
   "cell_type": "code",
   "execution_count": 73,
   "metadata": {},
   "outputs": [
    {
     "data": {
      "text/html": [
       "<table border=\"1\" class=\"dataframe\">\n",
       "    <thead>\n",
       "        <tr>\n",
       "            <th>Choice</th> <th>count</th>\n",
       "        </tr>\n",
       "    </thead>\n",
       "    <tbody>\n",
       "        <tr>\n",
       "            <td>Carlos</td> <td>1789 </td>\n",
       "        </tr>\n",
       "        <tr>\n",
       "            <td>Tim   </td> <td>3262 </td>\n",
       "        </tr>\n",
       "        <tr>\n",
       "            <td>Leslie</td> <td>3488 </td>\n",
       "        </tr>\n",
       "    </tbody>\n",
       "</table>"
      ],
      "text/plain": [
       "Choice | count\n",
       "Carlos | 1789\n",
       "Tim    | 3262\n",
       "Leslie | 3488"
      ]
     },
     "execution_count": 73,
     "metadata": {},
     "output_type": "execute_result"
    }
   ],
   "source": [
    "third_round = Table().with_column('Choice', ['Carlos', 'Tim', 'Leslie'], 'count', ['1789', '3262', '3488'])\n",
    "third_round"
   ]
  },
  {
   "cell_type": "code",
   "execution_count": 76,
   "metadata": {},
   "outputs": [
    {
     "data": {
      "text/html": [
       "<table border=\"1\" class=\"dataframe\">\n",
       "    <thead>\n",
       "        <tr>\n",
       "            <th>FourthChoice</th> <th>count</th>\n",
       "        </tr>\n",
       "    </thead>\n",
       "    <tbody>\n",
       "        <tr>\n",
       "            <td>Leslie      </td> <td>4    </td>\n",
       "        </tr>\n",
       "        <tr>\n",
       "            <td>Tim         </td> <td>7    </td>\n",
       "        </tr>\n",
       "    </tbody>\n",
       "</table>"
      ],
      "text/plain": [
       "FourthChoice | count\n",
       "Leslie       | 4\n",
       "Tim          | 7"
      ]
     },
     "execution_count": 76,
     "metadata": {},
     "output_type": "execute_result"
    }
   ],
   "source": [
    "fourth_choice = votes.where('ThirdChoice', 'Carlos').where(\"SecondChoice\", \"Christina\").where('FirstChoice', 'Lily').group('FourthChoice').sort('count')\n",
    "fourth_choice"
   ]
  },
  {
   "cell_type": "code",
   "execution_count": 77,
   "metadata": {},
   "outputs": [
    {
     "data": {
      "text/html": [
       "<table border=\"1\" class=\"dataframe\">\n",
       "    <thead>\n",
       "        <tr>\n",
       "            <th>Choice</th> <th>count</th>\n",
       "        </tr>\n",
       "    </thead>\n",
       "    <tbody>\n",
       "        <tr>\n",
       "            <td>Leslie</td> <td>3492 </td>\n",
       "        </tr>\n",
       "        <tr>\n",
       "            <td>Tim   </td> <td>3269 </td>\n",
       "        </tr>\n",
       "    </tbody>\n",
       "</table>"
      ],
      "text/plain": [
       "Choice | count\n",
       "Leslie | 3492\n",
       "Tim    | 3269"
      ]
     },
     "execution_count": 77,
     "metadata": {},
     "output_type": "execute_result"
    }
   ],
   "source": [
    "fourth_round = Table().with_column('Choice',['Leslie', 'Tim'], 'count', ['3492', '3269'])\n",
    "fourth_round"
   ]
  },
  {
   "cell_type": "code",
   "execution_count": 79,
   "metadata": {},
   "outputs": [
    {
     "data": {
      "text/html": [
       "<table border=\"1\" class=\"dataframe\">\n",
       "    <thead>\n",
       "        <tr>\n",
       "            <th>Final Winner</th> <th>Total Votes</th>\n",
       "        </tr>\n",
       "    </thead>\n",
       "    <tbody>\n",
       "        <tr>\n",
       "            <td>Leslie      </td> <td>3492       </td>\n",
       "        </tr>\n",
       "    </tbody>\n",
       "</table>"
      ],
      "text/plain": [
       "Final Winner | Total Votes\n",
       "Leslie       | 3492"
      ]
     },
     "execution_count": 79,
     "metadata": {},
     "output_type": "execute_result"
    }
   ],
   "source": [
    "final_results = Table().with_column('Final Winner', ['Leslie'], 'Total Votes', ['3492'])\n",
    "final_results"
   ]
  },
  {
   "cell_type": "code",
   "execution_count": null,
   "metadata": {},
   "outputs": [],
   "source": []
  }
 ],
 "metadata": {
  "kernelspec": {
   "display_name": "Python 3",
   "language": "python",
   "name": "python3"
  },
  "language_info": {
   "codemirror_mode": {
    "name": "ipython",
    "version": 3
   },
   "file_extension": ".py",
   "mimetype": "text/x-python",
   "name": "python",
   "nbconvert_exporter": "python",
   "pygments_lexer": "ipython3",
   "version": "3.6.5"
  }
 },
 "nbformat": 4,
 "nbformat_minor": 2
}
